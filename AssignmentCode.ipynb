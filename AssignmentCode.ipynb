{
 "cells": [
  {
   "cell_type": "markdown",
   "metadata": {},
   "source": [
    "https://docs.google.com/presentation/d/1nITW2Mh6jqwl8ouO36GlRrCkVCcVtYY3syI6fVgKyi4/edit?usp=sharing\n",
    "\n",
    "Omplir group.json"
   ]
  },
  {
   "cell_type": "markdown",
   "metadata": {},
   "source": [
    "# Sistemes de Recomanació"
   ]
  },
  {
   "cell_type": "markdown",
   "metadata": {},
   "source": [
    "En aquest primer lliurament es programarà un **sistema de recomanació**, que posarà en correspondència un *usuari* amb *artistes* en funció de les seves preferències i interessos. \n",
    "En aquesta ocasió, implementareu un sistema de recomanació que indiqui quin artista escoltar."
   ]
  },
  {
   "cell_type": "markdown",
   "metadata": {},
   "source": [
    "## Abans de començar\n",
    "\n",
    "\n",
    "**\\+ Durant la pràctica, solament es podran fer servir les següents llibreries**:\n",
    "\n",
    "`Pandas, Numpy, Itertools`\n",
    "\n",
    "*Nota: A més de les que ja es troben presents en la 1a cel·la i funcions natives de Python*\n",
    "\n",
    "**\\+ No es poden modificar les definicions de les funcions donades, ni canviar els noms de les variables i paràmetres ja donats**\n",
    "\n",
    "Això no implica però que els hàgiu de fer servir. És a dir, que la funció tingui un paràmetre anomenat `df` no implica que l'hàgiu de fer servir, si no ho trobeu convenient.\n",
    "\n",
    "**\\+ En les funcions, s'especifica que serà i de quin tipus cada un dels paràmetres, cal respectar-ho**\n",
    "\n",
    "Per exemple (ho posarà en el pydoc de la funció), `df` sempre serà indicatiu del `Pandas.DataFrame` de les dades. Durant els testos, els paràmetres (i específicament `df`) no contindran les mateixes dades que en aquest notebook, si bé si seran del mateix tipus! Per tant, no us refieu de què tinguin, per exemple, el mateix nombre de files."
   ]
  },
  {
   "cell_type": "markdown",
   "metadata": {},
   "source": [
    "## Testos automàtics\n",
    "\n",
    "Com ja sabeu, les pràctiques es fan a través de Github Classroom. Podeu treballar-hi lliurement i es recomana que feu commits sovint, per tal que els canvis quedin reflectits de forma estructurada i modular.\n",
    "\n",
    "Normalment treballareu a la branca `master`, però podeu fer fins a 3 cops al dia un `commit` (o `merge` de `master`) a la branca `test`. Això provocarà que es llencin un seguit de proves sobre el vostre codi, en podreu veure el resultat a la següent web: http://grade-me.education\n",
    "\n",
    "Penseu que aquests testos són un subconjunt, petit, dels que realment farem servir per avaluar. Per tant, us recomanem que aprofiteu al màxim els 3 intents diaris, que us serviran per comprovar que els formats d'entrada i sortida siguin correctes, a més d'alguns testos bàsics de correcte funcionament."
   ]
  },
  {
   "cell_type": "markdown",
   "metadata": {},
   "source": [
    "# Les dades\n",
    "\n",
    "En aquest i futur notebooks farem servir dades reals corresponents a *Last.fm dataset*. "
   ]
  },
  {
   "cell_type": "markdown",
   "metadata": {},
   "source": [
    "# Data loading\n",
    "\n",
    "### **En aquestes cel·les no feu cap modificació**\n",
    "\n",
    "Carrega les dades en un DataFrame Pandas."
   ]
  },
  {
   "cell_type": "code",
   "execution_count": 1,
   "metadata": {},
   "outputs": [
    {
     "name": "stderr",
     "output_type": "stream",
     "text": [
      "/Users/qijunjin/anaconda3/lib/python3.7/site-packages/numpy/lib/arraysetops.py:568: FutureWarning: elementwise comparison failed; returning scalar instead, but in the future will perform elementwise comparison\n",
      "  mask |= (ar1 == a)\n"
     ]
    },
    {
     "name": "stdout",
     "output_type": "stream",
     "text": [
      "(160112, 1) (251543, 4) (10215268, 3)\n"
     ]
    }
   ],
   "source": [
    "import pandas as pd\n",
    "import numpy as np\n",
    "import zipfile\n",
    "import pickle\n",
    "from os.path import join, dirname\n",
    "\n",
    "def locate(*path):\n",
    "    base = globals().get('__file__', '.')\n",
    "    return join(dirname(base), *path)\n",
    "\n",
    "def unzip(file):\n",
    "    zip_ref = zipfile.ZipFile(locate(file), 'r')\n",
    "    zip_ref.extractall(locate('data'))\n",
    "    zip_ref.close()\n",
    "\n",
    "if __name__ == '__main__':\n",
    "    unzip('dades_alumnes.zip')\n",
    "\n",
    "    original_df_artists = pd.read_csv('data/artists_names.csv', index_col='musicbrainzID')\n",
    "    original_df_users = pd.read_csv('data/user_profile_train.csv', index_col='userID')\n",
    "    original_df_user_artists = pd.read_csv('data/user_artist_plays_train.csv', index_col=0)\n",
    "    \n",
    "    print(original_df_artists.shape, original_df_users.shape, original_df_user_artists.shape)"
   ]
  },
  {
   "cell_type": "code",
   "execution_count": 2,
   "metadata": {},
   "outputs": [
    {
     "name": "stdout",
     "output_type": "stream",
     "text": [
      "(2970, 3)\n",
      "71 1810\n"
     ]
    }
   ],
   "source": [
    "if __name__ == '__main__':\n",
    "    df_user_artists = original_df_user_artists[original_df_user_artists.userID < 100]\n",
    "    print(df_user_artists.shape)\n",
    "    print(len(df_user_artists['userID'].unique()), len(df_user_artists['musicbrainzID'].unique()))"
   ]
  },
  {
   "cell_type": "markdown",
   "metadata": {},
   "source": [
    "## Anàlisis de les dades\n",
    "\n",
    "El primer que haurem de fer és analitzar les dades mitjançant diferents funcions."
   ]
  },
  {
   "cell_type": "code",
   "execution_count": 22,
   "metadata": {},
   "outputs": [],
   "source": [
    "def count_users(df):\n",
    "    \"\"\"\n",
    "    Retorna el nombre d'usuaris en el dataframe\n",
    "    \n",
    "    :param df: DataFrame dels usuaris\n",
    "    :return : Enter, nombre d'usuaris\n",
    "    \"\"\"\n",
    "    return len(df.index)\n",
    "\n",
    "def count_artits(df):\n",
    "    \"\"\"\n",
    "    Retorna el nombre d'artistes en el dataframe\n",
    "    \n",
    "    :param df: DataFrame dels artistes\n",
    "    :return : Enter, nombre d'artistes\n",
    "    \"\"\"\n",
    "    print(df.head())\n",
    "    return len(df.index)\n",
    "\n",
    "def get_users(df):\n",
    "    \"\"\"\n",
    "    Retorna els ids dels usuaris\n",
    "    \n",
    "    :params df: DataFrame df_user_artists\n",
    "    :return : Llista, tupla, pd.Series o indexos de pandas amb les ids\n",
    "    \"\"\"\n",
    "    #return df.ix[:, -1].tolist()\n",
    "    return list(df.index)\n",
    "\n",
    "\n",
    "def get_artits(df):\n",
    "    \"\"\"\n",
    "    Retorna els ids dels artites\n",
    "    \n",
    "    :params df: DataFrame df_user_artists\n",
    "    :return : Llista, tupla, pd.Series o indexos de pandas amb les ids\n",
    "    \"\"\"\n",
    "    return list(df.index)\n",
    "def total_reproductions(df):\n",
    "    \"\"\"\n",
    "    Retorna la quantitat de reproduccions totals guardades al dataframe\n",
    "    \n",
    "    :params df: DataFrame df_user_artists\n",
    "    :return : Enter, nombre de reproduccions\n",
    "    \"\"\"\n",
    "\n",
    "    return (sum(df['plays']))"
   ]
  },
  {
   "cell_type": "code",
   "execution_count": 23,
   "metadata": {},
   "outputs": [
    {
     "name": "stderr",
     "output_type": "stream",
     "text": [
      "IOPub data rate exceeded.\n",
      "The notebook server will temporarily stop sending output\n",
      "to the client in order to avoid crashing it.\n",
      "To change this limit, set the config variable\n",
      "`--NotebookApp.iopub_data_rate_limit`.\n",
      "\n",
      "Current values:\n",
      "NotebookApp.iopub_data_rate_limit=1000000.0 (bytes/sec)\n",
      "NotebookApp.rate_limit_window=3.0 (secs)\n",
      "\n"
     ]
    },
    {
     "name": "stdout",
     "output_type": "stream",
     "text": [
      "total_reproductions: 2356118519\n"
     ]
    }
   ],
   "source": [
    "if __name__ == '__main__':\n",
    "    print('count_users: {}'.format(count_users(original_df_users)))\n",
    "    print('count_artits: {}'.format(count_artits(original_df_artists)))\n",
    "    print('get_users: {}'.format(get_users(original_df_users)))\n",
    "    print('get_artits: {}'.format(get_artits(original_df_artists)))\n",
    "    print('total_reproductions: {}'.format(total_reproductions(original_df_user_artists)))"
   ]
  },
  {
   "cell_type": "markdown",
   "metadata": {},
   "source": [
    "# Implementació\n",
    "\n",
    "Recordeu, seguiu els pydoc i compliu amb el que diuen!\n",
    "\n",
    "El primer que haurem de fer és construir una matriu que ens serveixi, d'alguna forma, com a indicatiu de preferències de cada persona. Per tal efecte, construirem una matriu $m\\times n$, de $m$ usuaris per $n$ artistes (items), on cada entrada $i,j$ serà el nombre de vegades que la persona $i$ a escoltat l'artista $j$.\n",
    "\n",
    "<img src=\"./img/Mat.png\">\n"
   ]
  },
  {
   "cell_type": "code",
   "execution_count": 24,
   "metadata": {},
   "outputs": [],
   "source": [
    "from scipy.sparse import csr_matrix, dok_matrix\n",
    "from pandas.api.types import CategoricalDtype\n",
    "\n",
    "def to_dense(array):\n",
    "    \"\"\"\n",
    "    Accepta una csr_matrix, dok_matrix o matrix i la converteix en una \n",
    "    np.array normal, densa.\n",
    "    \n",
    "    :param array: Array a convertir\n",
    "    :return: np.array densa, sense cap dimensió de tamany 1\n",
    "    \"\"\"\n",
    "    try:\n",
    "        array = array.todense()\n",
    "    except:\n",
    "        pass\n",
    "    \n",
    "    return np.array(array).squeeze()\n",
    "    \n",
    "def build_counts_table(df):\n",
    "    \"\"\"\n",
    "    Retorna una csr_matrix on les columnes són els `items`, les files `user_id` i els valors\n",
    "    el nombre de vegades que un usuari ha escoltat un `artist`\n",
    "    \n",
    "    :param df: DataFrame original després de creuar-lo\n",
    "    :return: Una tupla constistent de:\n",
    "        * La csr_matrix descrita\n",
    "        * Els indexos corresponents a cada fila (el userID de la fila `i` corresponent a l'element `i` d'aquesta array)\n",
    "        * Les columnes corresponents a cada columna (el musicbrainzID de la columna `j` correspon a l'element `j` d'aquesta array)\n",
    "    \"\"\"\n",
    "    # Ids, sense repeticions i ordenats\n",
    "    user_ids = CategoricalDtype(sorted(df.userID.unique()), ordered=True)\n",
    "    music_ids = CategoricalDtype(sorted(df.musicbrainzID.unique()), ordered=True)\n",
    "\n",
    "    # Conversió a csr\n",
    "    row = df.userID.astype(user_ids).cat.codes\n",
    "    col = df.musicbrainzID.astype(music_ids).cat.codes\n",
    "    sparse_matrix = csr_matrix((df[\"plays\"], (row, col)), \\\n",
    "                           shape=(user_ids.categories.size, music_ids.categories.size))\n",
    "\n",
    "    return sparse_matrix, user_ids, music_ids"
   ]
  },
  {
   "cell_type": "code",
   "execution_count": 25,
   "metadata": {},
   "outputs": [],
   "source": [
    "def get_count(counts, indexes, columns, user_id, artist_id):\n",
    "    \"\"\"\n",
    "    Exemple: donat un ID d'usuari i un ID d'artista, retorna\n",
    "        el valor corresponent de la matriu `counts`\n",
    "    \n",
    "    :param counts, indexes, columns: Tupla retornada per `build_counts_table`\n",
    "    :param user_id: ID de l'usuari\n",
    "    :param artist_id: ID de l'artista\n",
    "    :return: Enter amb el nombre de vegades que s'ha escoltat\n",
    "    \"\"\"\n",
    "    row = indexes.categories.get_loc(user_id)\n",
    "    col = columns.categories.get_loc(artist_id)\n",
    "    return counts[row, col]"
   ]
  },
  {
   "cell_type": "code",
   "execution_count": 29,
   "metadata": {},
   "outputs": [],
   "source": [
    "def top_active_users(counts, indexes, columns, n):\n",
    "    \"\"\"\n",
    "    Exemple: Retorna els ids dels n usuaris que més reproduccions han acumulat\n",
    "    \n",
    "    :param counts, indexes, columns: Tupla retornada per `build_counts_table`\n",
    "    :param n: Quanitat d'usuaris\n",
    "    :return: Llista, tupla o pd.Series de userID dels n usuaris\n",
    "    \"\"\"\n",
    "    # Operate with the sparse matrix, convert to dense the result (as it has much fewer entries)\n",
    "    sums = to_dense(counts.sum(axis=1))\n",
    "    # Get indices\n",
    "    indices = sums.argsort()\n",
    "    return indexes.categories[indices[-n:]]\n",
    "\n",
    "def top_reproduced_artits(counts, indexes, columns, n):\n",
    "    \"\"\"\n",
    "    Exemple: Retorna els ids dels n artistes més escoltats\n",
    "    \n",
    "    :param counts, indexes, columns: Tupla retornada per `build_counts_table`\n",
    "    :param n: Quanitat d'artistes\n",
    "    :return: Llista, tupla o pd.Series de artistID dels n artistes\n",
    "    \"\"\"\n",
    "    print(counts, indexes,columns, n)\n",
    "    # Operate with the sparse matrix, convert to dense the result (as it has much fewer entries)\n",
    "    sums = to_dense(counts.sum(axis=0))\n",
    "    # Get indices\n",
    "    indices = sums.argsort()\n",
    "    return indexes.categories[indices[:-n]]\n",
    "    "
   ]
  },
  {
   "cell_type": "code",
   "execution_count": 30,
   "metadata": {},
   "outputs": [
    {
     "name": "stdout",
     "output_type": "stream",
     "text": [
      "(71, 1810)\n",
      "Int64Index([23, 76, 19, 74, 1], dtype='int64')\n",
      "  (0, 0)\t1099\n",
      "  (0, 1)\t897\n",
      "  (0, 2)\t717\n",
      "  (0, 3)\t706\n",
      "  (0, 4)\t691\n",
      "  (0, 5)\t545\n",
      "  (0, 6)\t507\n",
      "  (0, 7)\t424\n",
      "  (0, 8)\t403\n",
      "  (0, 9)\t393\n",
      "  (0, 10)\t387\n",
      "  (0, 11)\t361\n",
      "  (0, 12)\t358\n",
      "  (0, 13)\t316\n",
      "  (0, 14)\t310\n",
      "  (0, 15)\t302\n",
      "  (0, 16)\t288\n",
      "  (0, 17)\t281\n",
      "  (0, 18)\t244\n",
      "  (0, 19)\t232\n",
      "  (0, 20)\t231\n",
      "  (0, 21)\t229\n",
      "  (0, 22)\t227\n",
      "  (0, 23)\t222\n",
      "  (0, 24)\t220\n",
      "  :\t:\n",
      "  (70, 1414)\t17\n",
      "  (70, 1418)\t16\n",
      "  (70, 1421)\t30\n",
      "  (70, 1424)\t107\n",
      "  (70, 1426)\t23\n",
      "  (70, 1439)\t56\n",
      "  (70, 1508)\t42\n",
      "  (70, 1792)\t169\n",
      "  (70, 1793)\t104\n",
      "  (70, 1794)\t101\n",
      "  (70, 1795)\t99\n",
      "  (70, 1796)\t68\n",
      "  (70, 1797)\t31\n",
      "  (70, 1798)\t28\n",
      "  (70, 1799)\t27\n",
      "  (70, 1800)\t23\n",
      "  (70, 1801)\t23\n",
      "  (70, 1802)\t20\n",
      "  (70, 1803)\t18\n",
      "  (70, 1804)\t18\n",
      "  (70, 1805)\t17\n",
      "  (70, 1806)\t17\n",
      "  (70, 1807)\t16\n",
      "  (70, 1808)\t15\n",
      "  (70, 1809)\t15 category category 5\n",
      "Int64Index([23, 76, 19, 74, 1], dtype='int64')\n"
     ]
    }
   ],
   "source": [
    "if __name__ == '__main__':\n",
    "    counts, indexes, columns = build_counts_table(df_user_artists)\n",
    "    print(counts.shape)\n",
    "    \n",
    "    count = get_count(counts, indexes, columns, 111, 3323)\n",
    "    print(count)\n",
    "    \n",
    "    top_users = top_active_users(counts, indexes, columns, 5)\n",
    "    print(top_users)\n",
    "    \n",
    "    top_artists = top_reproduced_artits(counts, indexes, columns, 5)\n",
    "    print(top_artists)"
   ]
  },
  {
   "cell_type": "markdown",
   "metadata": {},
   "source": [
    "### Mesurament de similituds\n",
    "\n",
    "El primer pas per poder recomanar és definir una funció de similitud entre vectors. Siguin $x, y$ vectors, les següents són funcions típiques de similitud:\n",
    "\n",
    "* Distància euclidea (inversa): https://en.wikipedia.org/wiki/Euclidean_distance\n",
    "\n",
    "$$sim(x, y) = \\frac{1}{1 + \\sqrt{\\sum_i(x_i-y_i)^2}}\\in [0, 1]$$\n",
    "\n",
    "* Similitud cosinus: https://en.wikipedia.org/wiki/Cosine_similarity\n",
    "\n",
    "$$sim(x, y) = \\frac{x\\cdot y}{||x||\\hspace{0.1cm} ||y||} \\in [-1,1]$$\n",
    "\n",
    "* Correlació de Pearson: https://en.wikipedia.org/wiki/Pearson_correlation_coefficient\n",
    "\n",
    "$${\\displaystyle sim(x,y)={\\frac {\\sum _{i=1}^{n}(x_{i}-{\\bar {x}})(y_{i}-{\\bar {y}})}{{\\sqrt {\\sum _{i=1}^{n}(x_{i}-{\\bar {x}})^{2}}}{\\sqrt {\\sum _{i=1}^{n}(y_{i}-{\\bar {y}})^{2}}}}}} \\in [-1,1] \\\\ \\text{On }\\bar{x} = \\frac{1}{n} \\sum^n_i x_i\\text{ la mitja (i anàlogament per y)}$$\n",
    "\n",
    "Per aquesta part, però, **us demanem que implementeu** la següent funció de similitud:\n",
    "\n",
    "* Jaccard: https://en.wikipedia.org/wiki/Jaccard_index\n",
    "\n",
    "$$sim(x, y) = {{|x \\cap y|}\\over{|x \\cup y|}} $$\n",
    "\n",
    "Aquesta funció mesura el nombre d'elements en comú dels dos vectors (numerador) i el nombre total d'elements diferents que hi ha entre els dos vectors.\n",
    "Per exemple: \n",
    "\n",
    "$$\n",
    "x = [1, \\text{NaN}, 2, 3, \\text{NaN}, 5] \\\\\n",
    "y = [2, 1, \\text{NaN}, \\text{NaN}, \\text{NaN}, \\text{NaN}] \\\\\n",
    "sim(x, y) = {{|x \\cap y|}\\over{|x \\cup y|}} = {1 \\over{5}} = 0.2\n",
    "$$\n",
    "\n",
    "Per implementar-la **no podeu fer servir bucles** ni cap funció que calculi directament el resultat:\n",
    "\n",
    "* *scipy.spatial.distance.jaccard*\n",
    "* *sklearn.metrics.jaccard_similarity_score*\n",
    "* I d'altres semblants\n",
    "\n",
    "<hr>\n",
    "\n",
    "Tant per aquesta última com per les altres funcions, tingueu en compte que tenen particularitats. Algunes consideren valors negatius per els exemples oposats, d'altres poden donar problemes quan el denominador és 0, etc."
   ]
  },
  {
   "cell_type": "code",
   "execution_count": null,
   "metadata": {},
   "outputs": [],
   "source": [
    "import numpy as np\n",
    "\n",
    "def similarity(x, y):\n",
    "    \"\"\"\n",
    "    Similitud entre x i y segons Jaccard\n",
    "    \n",
    "    :param x: Primer vector, com a np.array\n",
    "    :param y: Segon vector, com a np.array\n",
    "    :return : Escalar (float) corresponent a la similitud\n",
    "    \"\"\"\n",
    "    raise NotImplementedError()"
   ]
  },
  {
   "cell_type": "code",
   "execution_count": null,
   "metadata": {},
   "outputs": [],
   "source": [
    "if __name__ == '__main__':\n",
    "    x = np.array([1, 1, 1, 0., 2])\n",
    "    y = np.array([1, 2, 3, 0., 0.])\n",
    "    print(similarity(x, y))"
   ]
  },
  {
   "cell_type": "markdown",
   "metadata": {},
   "source": [
    "### Matriu de similituds\n",
    "\n",
    "Per fer recomanació col·laborativa existeixen dues opcions, fer un recomanador basat en usuaris o un en ítems:\n",
    "\n",
    "* Recomanador basat en usuaris:\n",
    "Considera la matriu $M\\times N: \\text{usuaris}\\times\\text{items}$, per recomanar t'hauràs de basar en les similituds entre els usuaris.\n",
    "\n",
    "* Recomanador basat en items:\n",
    "Considera la matriu $M\\times N: \\text{items}\\times\\text{usuaris}$, per recomanar t'hauràs de basar en les similituds entre els ítems.\n",
    "\n",
    "Construeix una matriu de mida $M\\times M$ on cada posició $i,j$ indica la distància entre l'element $i$ i el $j$. Així doncs, si estàs fent un recomanador basat en usuaris, `matriu[2, 3]` contindrà la similitud entre l'usuari 2 i el 3. En canvi, si l'estàs fent basat en ítems, `matriu[2, 3]` contindrà la similitud entre l'ítem 2 i el 3."
   ]
  },
  {
   "cell_type": "code",
   "execution_count": null,
   "metadata": {},
   "outputs": [],
   "source": [
    "from tqdm import tqdm_notebook\n",
    "\n",
    "def similarity_matrix(similarity_function, counts):\n",
    "    \"\"\"\n",
    "    Retorna una matriu dok_matrix (sparse) de mida M x M on la posició\n",
    "    (i, j) indica la similitud entre els usuaris `i` i `j` (resp. items).\n",
    "    \n",
    "    No necessàriament totes les posicions han de ser obligatòriament omplertes.\n",
    "    Una bona implementació considerarà una matriu triangular, tenint-ho en compte\n",
    "    en les següents funcions.\n",
    "    \n",
    "    :param similarity_function: Fnció que calcularà la similitud \n",
    "        entre usuaris (resp. ítems)u\n",
    "    :param counts: csr_matrix que conté el nombre de vegades que \n",
    "        un usuari ha escoltat a un `artistID`\n",
    "    :return : Matriu numpy de mida M x M amb les similituds.\n",
    "    \"\"\"    \n",
    "    # Matrix cosine\n",
    "    if similarity_function is None:\n",
    "        raise NotImplementedError()\n",
    "    \n",
    "    n = counts.shape[0] # Resp. [1] per items\n",
    "    matrix = dok_matrix((n, n)) # Empty matrix, needs to be filled\n",
    "    \n",
    "    raise NotImplementedError()\n",
    "    \n",
    "    return matrix"
   ]
  },
  {
   "cell_type": "markdown",
   "metadata": {},
   "source": [
    "Per cridar aquesta funció, el primer paràmetre pot ser:\n",
    "\n",
    "* Si `similarity_function` no és `None`: `similarity_function` és una funció que rep dos np.array i calcula la similitud (tipus similarity(x, y)). Utilitzant ~5000 usuaris i amb una bona implementació triga ~45min.\n",
    "* Opcionalment (no és obligatori fer-ho, penseu en Kaggle) podeu programar una funció que treballi específicament amb matrius (i no vectors). Si ho feu, cal gestionar-ho quan es rep `None`. No totes les funcions anteriorment anomenades són fàcils (ni intuïtives, ni hi caben en memòria) d'aplicar en forma matricial. Triga uns 5s."
   ]
  },
  {
   "cell_type": "code",
   "execution_count": null,
   "metadata": {},
   "outputs": [],
   "source": [
    "import pickle\n",
    "\n",
    "if __name__ == '__main__':\n",
    "    try:\n",
    "        with open('similarities.pkl', 'rb') as fp:\n",
    "            similarities = pickle.load(fp)\n",
    "    except:\n",
    "        similarities = similarity_matrix(\n",
    "            similarity_function=similarity,\n",
    "            counts=counts\n",
    "        )\n",
    "        \n",
    "        with open('similarities.pkl', 'wb') as fp:\n",
    "            pickle.dump(similarities, fp, pickle.HIGHEST_PROTOCOL)"
   ]
  },
  {
   "cell_type": "markdown",
   "metadata": {},
   "source": [
    "### Generació de prediccions\n",
    "\n",
    "Per fer recomanació col·laborativa, necessitem una funció que ens doni un valor de quant bona seria la recomanació. En el nostre cas i amb les nostres dades, volem una funció que ens indiqui quants cops escoltaria un usuari un artista donat.\n",
    "\n",
    "* Si esteu fent un recomanador basat en usuaris, la puntuació per a un usuari $u$ i l'artista $i$ és\n",
    "\n",
    "$$pred(u, i) = \\hat{r}_{u,i} = \\frac{\\sum_{p\\neq u,r_{p,i}>0} sim(u, p)\\cdot r_{p,i}}{\\sum_{p\\neq u,r_{p,i}>0} sim(u, p)}$$\n",
    "\n",
    "On $r_{u,i}$ indica el nombre de vegades que l'usuari $u$ ha escoltat l'l'ítem $i$.\n",
    "\n",
    "És a dir, per cada usuari $p$ diferent de $u$ si aquest usuari ha escoltat algun cop el producte $i$, la similitud entre $p$ i $u$ multiplicada pel nombre de vegades que l'usuari $p$ ha escoltat l'l'ítem $i$ ($r_{p,i}$).\n",
    "\n",
    "Pondera't per la suma de les similituds.\n",
    "\n",
    "* Anàlogament, si està basat en ítem, la puntuació per a un usuari $u$ i ítem $i$ és\n",
    "\n",
    "$$pred(u, i) = \\hat{r}_{u,i} = \\frac{\\sum_{j\\neq i,r_{u,j}>0} sim(i, j)\\cdot r_{u,j}}{\\sum_{j\\neq i,r_{u,j}>0} sim(i, j)}$$\n",
    "\n",
    "On $r_{u,i}$ indica el nombre de vegades que l'usuari $u$ ha escoltat l'ítem $j$.\n",
    "\n",
    "És a dir, per cada ítem $j$ diferent de $i$ si l'usuari al qui recomanem ha escoltat l'artista $j$, la similitud entre $i$ i $j$ multiplicada pel nombre de vegades que l'usuari al qui recomanem $u$ ha escoltat l'ítem $j$ ($r_{u,j}$)\n",
    "\n",
    "Pondera't per la suma de les similituds."
   ]
  },
  {
   "cell_type": "markdown",
   "metadata": {},
   "source": [
    "Fixeu-vos que, sigui quin sigui el cas, al final estem fent el producte vectorial entre dos vectors. Concretament, el producte vectorial entre les similituds i les compres. Fes una funció que calculi aquest resultat:"
   ]
  },
  {
   "cell_type": "code",
   "execution_count": null,
   "metadata": {},
   "outputs": [],
   "source": [
    "def score(counts, indexes, columns, similarities, user, item):\n",
    "    \"\"\"\n",
    "    Extreu les similituds i el nombre de vegades que un usuari ha escoltat un artista\n",
    "    (resp. nombre de vegades que cada usuari ha escoltat l'artista) i:\n",
    "    \n",
    "    * Si estàs implementant basat en usuaris:\n",
    "        Donades les similituds i el nombre de vegades que l'usuari ha escoltat\n",
    "        cada artista, retorna la predicció que indica quants cops escoltara \n",
    "        l'usuari un nou artista.\n",
    "        \n",
    "    * Si estàs implementant basat en items:\n",
    "        Donades les similituds i el nombre de vegades que l'artista a recomanar ha\n",
    "        estat escoltat per cada usuari, retorna la predicció que indica quants cops\n",
    "        escoltaria l'usuari un nou artista.        \n",
    "    \n",
    "    :param counts, indexes, columns: Tupla retornada per `build_counts_table`\n",
    "    :param similarities: Matriu de similituds\n",
    "    :param user: ID de l'usuari per la predicció\n",
    "    :param item: ID de l'artista / item per la predicció    \n",
    "    :return : Retorna un escalar (float) amb la predicció\n",
    "    \n",
    "    \"\"\"\n",
    "    raise NotImplementedError()"
   ]
  },
  {
   "cell_type": "code",
   "execution_count": null,
   "metadata": {},
   "outputs": [],
   "source": [
    "if __name__ == '__main__':\n",
    "    print(score(counts, indexes, columns, similarities, 111, 123))"
   ]
  },
  {
   "cell_type": "markdown",
   "metadata": {},
   "source": [
    "Feu una funció que donat un usuari calculi per cada item que no ha escoltat la puntuació d'aquest. La funció retorna els $N$ items més ben puntuats."
   ]
  },
  {
   "cell_type": "code",
   "execution_count": null,
   "metadata": {},
   "outputs": [],
   "source": [
    "def recommend_n_items(counts, indexes, columns, similarities, user, N):\n",
    "    \"\"\"\n",
    "    Donat un usuari calcula per cada ítem/artista que no ha escoltat la puntuació d'aquest. \n",
    "    La funció retorna els $N$ ítems més ben puntuats.\n",
    "    \n",
    "    :param counts, indexes, columns: Tupla retornada per `build_counts_table`\n",
    "    :param similarities: Matriu de similituds\n",
    "    :param user: Identificador de l'usuari\n",
    "    :param N: Nombre d'ítems que volem que siguin recomanats.\n",
    "    :return : Llista amb els IDs dels ítems recomanats\n",
    "    \"\"\"\n",
    "    raise NotImplementedError()"
   ]
  },
  {
   "cell_type": "code",
   "execution_count": null,
   "metadata": {},
   "outputs": [],
   "source": [
    "if __name__ == '__main__':\n",
    "    print(recommend_n_items(counts, indexes, columns, similarities, 111, 10))"
   ]
  },
  {
   "cell_type": "markdown",
   "metadata": {},
   "source": [
    "### Possibles millores \n",
    "\n",
    "Per implementar millores, dupliqueu el notebook i feu-ho en la còpia!\n",
    "\n",
    "Deixeu aquest notebook amb la implementació base.\n",
    "\n",
    "**1) És Jaccard la millor mesura de similitud per les nostres dades?**\n",
    "Jaccard no té en compte la cardinalitat, únicament els elements no nuls. És, per les dades de reproduccions, una aproximació adequada?\n",
    "Si ho és, creus que el càlcul de recomanació col·laborativa és el més adhient? Mira el punt 3\n",
    "\n",
    "**2) Utilització completa de les dades:**\n",
    "Fer servir `df_original` tindrà (possiblement) resultats més fiables, però trigarà molt més que amb la versió reduida `df`. Pots canviar tant el nombre de dades utilitzades com quines dades es seleccionen.\n",
    "\n",
    "**3) Normalització: Prediccions escalades al domini de l'usuari:**\n",
    "Els usuaris escolten en diferent mesura als artites, uns més vegades, d'altres menys. Fent servir la següent formula, escalem la predicció a la mitja de l'usuari:\n",
    "$$pred(u, i) = \\hat{r}_{u,i} = \\bar{r_u} + \\frac{\\sum_{p\\neq u,r_{p,i}>0} sim(u, p)\\cdot (r_{p,i}-\\bar{r_i})}{\\sum_{p\\neq u,r_{p,i}>0} sim(u, p)}$$\n",
    "on $\\bar{r_u}$ és la mitjana de compres de l'usuari *u* i $\\bar{r_i}$ la mitja de reproduccions de l'artista *i*.\n",
    "    \n",
    "**4) Valor del nombre d'elements codificats: **\n",
    "Redueix la similitud entre els usuaris si el nombre de reproduccions és baix o descarta (en entrenament) aquells usuaris amb un petit nombre d'artistes escoltats.\n",
    "\n",
    "**5) Augment de la similitud: **\n",
    "Incrementeu el pes als usuaris que són realment similars (~ = 1)\n",
    "\n",
    "**6) Selecció d'usuaris semblants: **\n",
    "Només s'utilitza un subconjunt d'usuaris similars, descartant tots aquells usuaris poc similars.\n",
    "\n",
    "\n",
    "Totes aquestes tècniques es poden aplicar d'igual manera en la recomanació col·laborativa per usuaris o ítems."
   ]
  },
  {
   "cell_type": "markdown",
   "metadata": {},
   "source": [
    "# Kaggle\n",
    "\n",
    "Teniu la competició a la següent URL:\n",
    "\n",
    "https://www.kaggle.com/t/4a3fd7b1e44c40a5a208c6da21a23d05\n",
    "\n",
    "Si heu seguit tots els pydoc, el següent codi funcionarà directament sense canvis (@30min)."
   ]
  },
  {
   "cell_type": "code",
   "execution_count": null,
   "metadata": {},
   "outputs": [],
   "source": [
    "if __name__ == '__main__':\n",
    "    try:\n",
    "        from tqdm import tqdm_notebook\n",
    "    except:\n",
    "        def tqdm_notebook(a, *_, **__): return a\n",
    "    \n",
    "    # Fetch kaggle public data and merge\n",
    "    kaggle_df_user_artists = pd.read_csv('data/user_artist_plays_public_kaggle.csv')\n",
    "    merged_df_user_artists = pd.concat((df_user_artists, kaggle_df_user_artists))\n",
    "    \n",
    "    # Obtain counts\n",
    "    merged_counts, merged_indexes, merged_columns = build_counts_table(merged_df_user_artists)\n",
    "    \n",
    "    # Similarity\n",
    "    try:\n",
    "        with open('merged_similarities.pkl', 'rb') as fp:\n",
    "            merged_similarities = pickle.load(fp)\n",
    "    except:\n",
    "        merged_similarities = similarity_matrix(\n",
    "            similarity_function=similarity,\n",
    "            counts=merged_counts\n",
    "        )\n",
    "        \n",
    "        with open('merged_similarities.pkl', 'wb') as fp:\n",
    "            pickle.dump(merged_similarities, fp, pickle.HIGHEST_PROTOCOL)\n",
    "    \n",
    "    results = pd.DataFrame(columns=['user_id', 'music_id'])\n",
    "    \n",
    "    for idx, user in enumerate(tqdm_notebook(kaggle_df_user_artists.userID.unique())):\n",
    "        music_ids = recommend_n_items(merged_counts, merged_indexes, merged_columns, merged_similarities, user, 10)\n",
    "        results.loc[idx] = (user, ' '.join(str(x) for x in music_ids))\n",
    "        \n",
    "    results.to_csv('submission.csv', index=None)"
   ]
  }
 ],
 "metadata": {
  "kernelspec": {
   "display_name": "Python 3",
   "language": "python",
   "name": "python3"
  },
  "language_info": {
   "codemirror_mode": {
    "name": "ipython",
    "version": 3
   },
   "file_extension": ".py",
   "mimetype": "text/x-python",
   "name": "python",
   "nbconvert_exporter": "python",
   "pygments_lexer": "ipython3",
   "version": "3.7.4"
  }
 },
 "nbformat": 4,
 "nbformat_minor": 2
}
